{
 "cells": [
  {
   "cell_type": "code",
   "execution_count": 1,
   "metadata": {},
   "outputs": [],
   "source": [
    "import numpy as np\n",
    "import pandas as pd\n",
    "import matplotlib.pyplot as plt"
   ]
  },
  {
   "cell_type": "code",
   "execution_count": 2,
   "metadata": {},
   "outputs": [],
   "source": [
    "ratings = pd.read_csv(\"models/data/bookcrossing/ratings.csv\", sep=',', engine='python', encoding='latin-1')\n",
    "books = pd.read_csv('models/data/bookcrossing/books.csv', sep=',', engine='python', encoding='latin-1')"
   ]
  },
  {
   "cell_type": "code",
   "execution_count": 3,
   "metadata": {},
   "outputs": [],
   "source": [
    "min_year = books[books['Year'] != 0]['Year'].min()"
   ]
  },
  {
   "cell_type": "code",
   "execution_count": 4,
   "metadata": {},
   "outputs": [
    {
     "name": "stderr",
     "output_type": "stream",
     "text": [
      "/var/folders/7c/y12245f559z49098cj1v6h8r0000gn/T/ipykernel_84431/498297194.py:11: PerformanceWarning: DataFrame is highly fragmented.  This is usually the result of calling `frame.insert` many times, which has poor performance.  Consider joining all columns at once using pd.concat(axis=1) instead. To get a de-fragmented frame, use `newframe = frame.copy()`\n",
      "  books[column_name] = books['Year'].apply(lambda x: 1 if start <= x < end else 0)\n",
      "/var/folders/7c/y12245f559z49098cj1v6h8r0000gn/T/ipykernel_84431/498297194.py:11: PerformanceWarning: DataFrame is highly fragmented.  This is usually the result of calling `frame.insert` many times, which has poor performance.  Consider joining all columns at once using pd.concat(axis=1) instead. To get a de-fragmented frame, use `newframe = frame.copy()`\n",
      "  books[column_name] = books['Year'].apply(lambda x: 1 if start <= x < end else 0)\n",
      "/var/folders/7c/y12245f559z49098cj1v6h8r0000gn/T/ipykernel_84431/498297194.py:11: PerformanceWarning: DataFrame is highly fragmented.  This is usually the result of calling `frame.insert` many times, which has poor performance.  Consider joining all columns at once using pd.concat(axis=1) instead. To get a de-fragmented frame, use `newframe = frame.copy()`\n",
      "  books[column_name] = books['Year'].apply(lambda x: 1 if start <= x < end else 0)\n",
      "/var/folders/7c/y12245f559z49098cj1v6h8r0000gn/T/ipykernel_84431/498297194.py:11: PerformanceWarning: DataFrame is highly fragmented.  This is usually the result of calling `frame.insert` many times, which has poor performance.  Consider joining all columns at once using pd.concat(axis=1) instead. To get a de-fragmented frame, use `newframe = frame.copy()`\n",
      "  books[column_name] = books['Year'].apply(lambda x: 1 if start <= x < end else 0)\n",
      "/var/folders/7c/y12245f559z49098cj1v6h8r0000gn/T/ipykernel_84431/498297194.py:11: PerformanceWarning: DataFrame is highly fragmented.  This is usually the result of calling `frame.insert` many times, which has poor performance.  Consider joining all columns at once using pd.concat(axis=1) instead. To get a de-fragmented frame, use `newframe = frame.copy()`\n",
      "  books[column_name] = books['Year'].apply(lambda x: 1 if start <= x < end else 0)\n",
      "/var/folders/7c/y12245f559z49098cj1v6h8r0000gn/T/ipykernel_84431/498297194.py:11: PerformanceWarning: DataFrame is highly fragmented.  This is usually the result of calling `frame.insert` many times, which has poor performance.  Consider joining all columns at once using pd.concat(axis=1) instead. To get a de-fragmented frame, use `newframe = frame.copy()`\n",
      "  books[column_name] = books['Year'].apply(lambda x: 1 if start <= x < end else 0)\n",
      "/var/folders/7c/y12245f559z49098cj1v6h8r0000gn/T/ipykernel_84431/498297194.py:11: PerformanceWarning: DataFrame is highly fragmented.  This is usually the result of calling `frame.insert` many times, which has poor performance.  Consider joining all columns at once using pd.concat(axis=1) instead. To get a de-fragmented frame, use `newframe = frame.copy()`\n",
      "  books[column_name] = books['Year'].apply(lambda x: 1 if start <= x < end else 0)\n",
      "/var/folders/7c/y12245f559z49098cj1v6h8r0000gn/T/ipykernel_84431/498297194.py:11: PerformanceWarning: DataFrame is highly fragmented.  This is usually the result of calling `frame.insert` many times, which has poor performance.  Consider joining all columns at once using pd.concat(axis=1) instead. To get a de-fragmented frame, use `newframe = frame.copy()`\n",
      "  books[column_name] = books['Year'].apply(lambda x: 1 if start <= x < end else 0)\n",
      "/var/folders/7c/y12245f559z49098cj1v6h8r0000gn/T/ipykernel_84431/498297194.py:11: PerformanceWarning: DataFrame is highly fragmented.  This is usually the result of calling `frame.insert` many times, which has poor performance.  Consider joining all columns at once using pd.concat(axis=1) instead. To get a de-fragmented frame, use `newframe = frame.copy()`\n",
      "  books[column_name] = books['Year'].apply(lambda x: 1 if start <= x < end else 0)\n",
      "/var/folders/7c/y12245f559z49098cj1v6h8r0000gn/T/ipykernel_84431/498297194.py:11: PerformanceWarning: DataFrame is highly fragmented.  This is usually the result of calling `frame.insert` many times, which has poor performance.  Consider joining all columns at once using pd.concat(axis=1) instead. To get a de-fragmented frame, use `newframe = frame.copy()`\n",
      "  books[column_name] = books['Year'].apply(lambda x: 1 if start <= x < end else 0)\n",
      "/var/folders/7c/y12245f559z49098cj1v6h8r0000gn/T/ipykernel_84431/498297194.py:11: PerformanceWarning: DataFrame is highly fragmented.  This is usually the result of calling `frame.insert` many times, which has poor performance.  Consider joining all columns at once using pd.concat(axis=1) instead. To get a de-fragmented frame, use `newframe = frame.copy()`\n",
      "  books[column_name] = books['Year'].apply(lambda x: 1 if start <= x < end else 0)\n",
      "/var/folders/7c/y12245f559z49098cj1v6h8r0000gn/T/ipykernel_84431/498297194.py:11: PerformanceWarning: DataFrame is highly fragmented.  This is usually the result of calling `frame.insert` many times, which has poor performance.  Consider joining all columns at once using pd.concat(axis=1) instead. To get a de-fragmented frame, use `newframe = frame.copy()`\n",
      "  books[column_name] = books['Year'].apply(lambda x: 1 if start <= x < end else 0)\n",
      "/var/folders/7c/y12245f559z49098cj1v6h8r0000gn/T/ipykernel_84431/498297194.py:11: PerformanceWarning: DataFrame is highly fragmented.  This is usually the result of calling `frame.insert` many times, which has poor performance.  Consider joining all columns at once using pd.concat(axis=1) instead. To get a de-fragmented frame, use `newframe = frame.copy()`\n",
      "  books[column_name] = books['Year'].apply(lambda x: 1 if start <= x < end else 0)\n",
      "/var/folders/7c/y12245f559z49098cj1v6h8r0000gn/T/ipykernel_84431/498297194.py:11: PerformanceWarning: DataFrame is highly fragmented.  This is usually the result of calling `frame.insert` many times, which has poor performance.  Consider joining all columns at once using pd.concat(axis=1) instead. To get a de-fragmented frame, use `newframe = frame.copy()`\n",
      "  books[column_name] = books['Year'].apply(lambda x: 1 if start <= x < end else 0)\n",
      "/var/folders/7c/y12245f559z49098cj1v6h8r0000gn/T/ipykernel_84431/498297194.py:11: PerformanceWarning: DataFrame is highly fragmented.  This is usually the result of calling `frame.insert` many times, which has poor performance.  Consider joining all columns at once using pd.concat(axis=1) instead. To get a de-fragmented frame, use `newframe = frame.copy()`\n",
      "  books[column_name] = books['Year'].apply(lambda x: 1 if start <= x < end else 0)\n",
      "/var/folders/7c/y12245f559z49098cj1v6h8r0000gn/T/ipykernel_84431/498297194.py:11: PerformanceWarning: DataFrame is highly fragmented.  This is usually the result of calling `frame.insert` many times, which has poor performance.  Consider joining all columns at once using pd.concat(axis=1) instead. To get a de-fragmented frame, use `newframe = frame.copy()`\n",
      "  books[column_name] = books['Year'].apply(lambda x: 1 if start <= x < end else 0)\n",
      "/var/folders/7c/y12245f559z49098cj1v6h8r0000gn/T/ipykernel_84431/498297194.py:11: PerformanceWarning: DataFrame is highly fragmented.  This is usually the result of calling `frame.insert` many times, which has poor performance.  Consider joining all columns at once using pd.concat(axis=1) instead. To get a de-fragmented frame, use `newframe = frame.copy()`\n",
      "  books[column_name] = books['Year'].apply(lambda x: 1 if start <= x < end else 0)\n",
      "/var/folders/7c/y12245f559z49098cj1v6h8r0000gn/T/ipykernel_84431/498297194.py:11: PerformanceWarning: DataFrame is highly fragmented.  This is usually the result of calling `frame.insert` many times, which has poor performance.  Consider joining all columns at once using pd.concat(axis=1) instead. To get a de-fragmented frame, use `newframe = frame.copy()`\n",
      "  books[column_name] = books['Year'].apply(lambda x: 1 if start <= x < end else 0)\n",
      "/var/folders/7c/y12245f559z49098cj1v6h8r0000gn/T/ipykernel_84431/498297194.py:11: PerformanceWarning: DataFrame is highly fragmented.  This is usually the result of calling `frame.insert` many times, which has poor performance.  Consider joining all columns at once using pd.concat(axis=1) instead. To get a de-fragmented frame, use `newframe = frame.copy()`\n",
      "  books[column_name] = books['Year'].apply(lambda x: 1 if start <= x < end else 0)\n",
      "/var/folders/7c/y12245f559z49098cj1v6h8r0000gn/T/ipykernel_84431/498297194.py:11: PerformanceWarning: DataFrame is highly fragmented.  This is usually the result of calling `frame.insert` many times, which has poor performance.  Consider joining all columns at once using pd.concat(axis=1) instead. To get a de-fragmented frame, use `newframe = frame.copy()`\n",
      "  books[column_name] = books['Year'].apply(lambda x: 1 if start <= x < end else 0)\n",
      "/var/folders/7c/y12245f559z49098cj1v6h8r0000gn/T/ipykernel_84431/498297194.py:11: PerformanceWarning: DataFrame is highly fragmented.  This is usually the result of calling `frame.insert` many times, which has poor performance.  Consider joining all columns at once using pd.concat(axis=1) instead. To get a de-fragmented frame, use `newframe = frame.copy()`\n",
      "  books[column_name] = books['Year'].apply(lambda x: 1 if start <= x < end else 0)\n",
      "/var/folders/7c/y12245f559z49098cj1v6h8r0000gn/T/ipykernel_84431/498297194.py:11: PerformanceWarning: DataFrame is highly fragmented.  This is usually the result of calling `frame.insert` many times, which has poor performance.  Consider joining all columns at once using pd.concat(axis=1) instead. To get a de-fragmented frame, use `newframe = frame.copy()`\n",
      "  books[column_name] = books['Year'].apply(lambda x: 1 if start <= x < end else 0)\n",
      "/var/folders/7c/y12245f559z49098cj1v6h8r0000gn/T/ipykernel_84431/498297194.py:11: PerformanceWarning: DataFrame is highly fragmented.  This is usually the result of calling `frame.insert` many times, which has poor performance.  Consider joining all columns at once using pd.concat(axis=1) instead. To get a de-fragmented frame, use `newframe = frame.copy()`\n",
      "  books[column_name] = books['Year'].apply(lambda x: 1 if start <= x < end else 0)\n",
      "/var/folders/7c/y12245f559z49098cj1v6h8r0000gn/T/ipykernel_84431/498297194.py:11: PerformanceWarning: DataFrame is highly fragmented.  This is usually the result of calling `frame.insert` many times, which has poor performance.  Consider joining all columns at once using pd.concat(axis=1) instead. To get a de-fragmented frame, use `newframe = frame.copy()`\n",
      "  books[column_name] = books['Year'].apply(lambda x: 1 if start <= x < end else 0)\n",
      "/var/folders/7c/y12245f559z49098cj1v6h8r0000gn/T/ipykernel_84431/498297194.py:11: PerformanceWarning: DataFrame is highly fragmented.  This is usually the result of calling `frame.insert` many times, which has poor performance.  Consider joining all columns at once using pd.concat(axis=1) instead. To get a de-fragmented frame, use `newframe = frame.copy()`\n",
      "  books[column_name] = books['Year'].apply(lambda x: 1 if start <= x < end else 0)\n",
      "/var/folders/7c/y12245f559z49098cj1v6h8r0000gn/T/ipykernel_84431/498297194.py:11: PerformanceWarning: DataFrame is highly fragmented.  This is usually the result of calling `frame.insert` many times, which has poor performance.  Consider joining all columns at once using pd.concat(axis=1) instead. To get a de-fragmented frame, use `newframe = frame.copy()`\n",
      "  books[column_name] = books['Year'].apply(lambda x: 1 if start <= x < end else 0)\n",
      "/var/folders/7c/y12245f559z49098cj1v6h8r0000gn/T/ipykernel_84431/498297194.py:11: PerformanceWarning: DataFrame is highly fragmented.  This is usually the result of calling `frame.insert` many times, which has poor performance.  Consider joining all columns at once using pd.concat(axis=1) instead. To get a de-fragmented frame, use `newframe = frame.copy()`\n",
      "  books[column_name] = books['Year'].apply(lambda x: 1 if start <= x < end else 0)\n",
      "/var/folders/7c/y12245f559z49098cj1v6h8r0000gn/T/ipykernel_84431/498297194.py:11: PerformanceWarning: DataFrame is highly fragmented.  This is usually the result of calling `frame.insert` many times, which has poor performance.  Consider joining all columns at once using pd.concat(axis=1) instead. To get a de-fragmented frame, use `newframe = frame.copy()`\n",
      "  books[column_name] = books['Year'].apply(lambda x: 1 if start <= x < end else 0)\n",
      "/var/folders/7c/y12245f559z49098cj1v6h8r0000gn/T/ipykernel_84431/498297194.py:11: PerformanceWarning: DataFrame is highly fragmented.  This is usually the result of calling `frame.insert` many times, which has poor performance.  Consider joining all columns at once using pd.concat(axis=1) instead. To get a de-fragmented frame, use `newframe = frame.copy()`\n",
      "  books[column_name] = books['Year'].apply(lambda x: 1 if start <= x < end else 0)\n",
      "/var/folders/7c/y12245f559z49098cj1v6h8r0000gn/T/ipykernel_84431/498297194.py:11: PerformanceWarning: DataFrame is highly fragmented.  This is usually the result of calling `frame.insert` many times, which has poor performance.  Consider joining all columns at once using pd.concat(axis=1) instead. To get a de-fragmented frame, use `newframe = frame.copy()`\n",
      "  books[column_name] = books['Year'].apply(lambda x: 1 if start <= x < end else 0)\n",
      "/var/folders/7c/y12245f559z49098cj1v6h8r0000gn/T/ipykernel_84431/498297194.py:11: PerformanceWarning: DataFrame is highly fragmented.  This is usually the result of calling `frame.insert` many times, which has poor performance.  Consider joining all columns at once using pd.concat(axis=1) instead. To get a de-fragmented frame, use `newframe = frame.copy()`\n",
      "  books[column_name] = books['Year'].apply(lambda x: 1 if start <= x < end else 0)\n",
      "/var/folders/7c/y12245f559z49098cj1v6h8r0000gn/T/ipykernel_84431/498297194.py:11: PerformanceWarning: DataFrame is highly fragmented.  This is usually the result of calling `frame.insert` many times, which has poor performance.  Consider joining all columns at once using pd.concat(axis=1) instead. To get a de-fragmented frame, use `newframe = frame.copy()`\n",
      "  books[column_name] = books['Year'].apply(lambda x: 1 if start <= x < end else 0)\n",
      "/var/folders/7c/y12245f559z49098cj1v6h8r0000gn/T/ipykernel_84431/498297194.py:11: PerformanceWarning: DataFrame is highly fragmented.  This is usually the result of calling `frame.insert` many times, which has poor performance.  Consider joining all columns at once using pd.concat(axis=1) instead. To get a de-fragmented frame, use `newframe = frame.copy()`\n",
      "  books[column_name] = books['Year'].apply(lambda x: 1 if start <= x < end else 0)\n",
      "/var/folders/7c/y12245f559z49098cj1v6h8r0000gn/T/ipykernel_84431/498297194.py:11: PerformanceWarning: DataFrame is highly fragmented.  This is usually the result of calling `frame.insert` many times, which has poor performance.  Consider joining all columns at once using pd.concat(axis=1) instead. To get a de-fragmented frame, use `newframe = frame.copy()`\n",
      "  books[column_name] = books['Year'].apply(lambda x: 1 if start <= x < end else 0)\n",
      "/var/folders/7c/y12245f559z49098cj1v6h8r0000gn/T/ipykernel_84431/498297194.py:11: PerformanceWarning: DataFrame is highly fragmented.  This is usually the result of calling `frame.insert` many times, which has poor performance.  Consider joining all columns at once using pd.concat(axis=1) instead. To get a de-fragmented frame, use `newframe = frame.copy()`\n",
      "  books[column_name] = books['Year'].apply(lambda x: 1 if start <= x < end else 0)\n",
      "/var/folders/7c/y12245f559z49098cj1v6h8r0000gn/T/ipykernel_84431/498297194.py:11: PerformanceWarning: DataFrame is highly fragmented.  This is usually the result of calling `frame.insert` many times, which has poor performance.  Consider joining all columns at once using pd.concat(axis=1) instead. To get a de-fragmented frame, use `newframe = frame.copy()`\n",
      "  books[column_name] = books['Year'].apply(lambda x: 1 if start <= x < end else 0)\n",
      "/var/folders/7c/y12245f559z49098cj1v6h8r0000gn/T/ipykernel_84431/498297194.py:11: PerformanceWarning: DataFrame is highly fragmented.  This is usually the result of calling `frame.insert` many times, which has poor performance.  Consider joining all columns at once using pd.concat(axis=1) instead. To get a de-fragmented frame, use `newframe = frame.copy()`\n",
      "  books[column_name] = books['Year'].apply(lambda x: 1 if start <= x < end else 0)\n",
      "/var/folders/7c/y12245f559z49098cj1v6h8r0000gn/T/ipykernel_84431/498297194.py:11: PerformanceWarning: DataFrame is highly fragmented.  This is usually the result of calling `frame.insert` many times, which has poor performance.  Consider joining all columns at once using pd.concat(axis=1) instead. To get a de-fragmented frame, use `newframe = frame.copy()`\n",
      "  books[column_name] = books['Year'].apply(lambda x: 1 if start <= x < end else 0)\n"
     ]
    },
    {
     "data": {
      "text/html": [
       "<div>\n",
       "<style scoped>\n",
       "    .dataframe tbody tr th:only-of-type {\n",
       "        vertical-align: middle;\n",
       "    }\n",
       "\n",
       "    .dataframe tbody tr th {\n",
       "        vertical-align: top;\n",
       "    }\n",
       "\n",
       "    .dataframe thead th {\n",
       "        text-align: right;\n",
       "    }\n",
       "</style>\n",
       "<table border=\"1\" class=\"dataframe\">\n",
       "  <thead>\n",
       "    <tr style=\"text-align: right;\">\n",
       "      <th></th>\n",
       "      <th>ISBN</th>\n",
       "      <th>Title</th>\n",
       "      <th>Author</th>\n",
       "      <th>Year</th>\n",
       "      <th>Publisher</th>\n",
       "      <th>1375</th>\n",
       "      <th>1805</th>\n",
       "      <th>1895</th>\n",
       "      <th>1900</th>\n",
       "      <th>1905</th>\n",
       "      <th>...</th>\n",
       "      <th>1990</th>\n",
       "      <th>1995</th>\n",
       "      <th>2000</th>\n",
       "      <th>2005</th>\n",
       "      <th>2010</th>\n",
       "      <th>2020</th>\n",
       "      <th>2025</th>\n",
       "      <th>2030</th>\n",
       "      <th>2035</th>\n",
       "      <th>2050</th>\n",
       "    </tr>\n",
       "  </thead>\n",
       "  <tbody>\n",
       "    <tr>\n",
       "      <th>0</th>\n",
       "      <td>0</td>\n",
       "      <td>Classical Mythology</td>\n",
       "      <td>Mark P. O. Morford</td>\n",
       "      <td>2002</td>\n",
       "      <td>Oxford University Press</td>\n",
       "      <td>0</td>\n",
       "      <td>0</td>\n",
       "      <td>0</td>\n",
       "      <td>0</td>\n",
       "      <td>0</td>\n",
       "      <td>...</td>\n",
       "      <td>0</td>\n",
       "      <td>0</td>\n",
       "      <td>1</td>\n",
       "      <td>0</td>\n",
       "      <td>0</td>\n",
       "      <td>0</td>\n",
       "      <td>0</td>\n",
       "      <td>0</td>\n",
       "      <td>0</td>\n",
       "      <td>0</td>\n",
       "    </tr>\n",
       "    <tr>\n",
       "      <th>1</th>\n",
       "      <td>1</td>\n",
       "      <td>Clara Callan</td>\n",
       "      <td>Richard Bruce Wright</td>\n",
       "      <td>2001</td>\n",
       "      <td>HarperFlamingo Canada</td>\n",
       "      <td>0</td>\n",
       "      <td>0</td>\n",
       "      <td>0</td>\n",
       "      <td>0</td>\n",
       "      <td>0</td>\n",
       "      <td>...</td>\n",
       "      <td>0</td>\n",
       "      <td>0</td>\n",
       "      <td>1</td>\n",
       "      <td>0</td>\n",
       "      <td>0</td>\n",
       "      <td>0</td>\n",
       "      <td>0</td>\n",
       "      <td>0</td>\n",
       "      <td>0</td>\n",
       "      <td>0</td>\n",
       "    </tr>\n",
       "    <tr>\n",
       "      <th>2</th>\n",
       "      <td>2</td>\n",
       "      <td>Decision in Normandy</td>\n",
       "      <td>Carlo D'Este</td>\n",
       "      <td>1991</td>\n",
       "      <td>HarperPerennial</td>\n",
       "      <td>0</td>\n",
       "      <td>0</td>\n",
       "      <td>0</td>\n",
       "      <td>0</td>\n",
       "      <td>0</td>\n",
       "      <td>...</td>\n",
       "      <td>1</td>\n",
       "      <td>0</td>\n",
       "      <td>0</td>\n",
       "      <td>0</td>\n",
       "      <td>0</td>\n",
       "      <td>0</td>\n",
       "      <td>0</td>\n",
       "      <td>0</td>\n",
       "      <td>0</td>\n",
       "      <td>0</td>\n",
       "    </tr>\n",
       "    <tr>\n",
       "      <th>3</th>\n",
       "      <td>3</td>\n",
       "      <td>Flu: The Story of the Great Influenza Pandemic...</td>\n",
       "      <td>Gina Bari Kolata</td>\n",
       "      <td>1999</td>\n",
       "      <td>Farrar Straus Giroux</td>\n",
       "      <td>0</td>\n",
       "      <td>0</td>\n",
       "      <td>0</td>\n",
       "      <td>0</td>\n",
       "      <td>0</td>\n",
       "      <td>...</td>\n",
       "      <td>0</td>\n",
       "      <td>1</td>\n",
       "      <td>0</td>\n",
       "      <td>0</td>\n",
       "      <td>0</td>\n",
       "      <td>0</td>\n",
       "      <td>0</td>\n",
       "      <td>0</td>\n",
       "      <td>0</td>\n",
       "      <td>0</td>\n",
       "    </tr>\n",
       "    <tr>\n",
       "      <th>4</th>\n",
       "      <td>4</td>\n",
       "      <td>The Mummies of Urumchi</td>\n",
       "      <td>E. J. W. Barber</td>\n",
       "      <td>1999</td>\n",
       "      <td>W. W. Norton &amp; Company</td>\n",
       "      <td>0</td>\n",
       "      <td>0</td>\n",
       "      <td>0</td>\n",
       "      <td>0</td>\n",
       "      <td>0</td>\n",
       "      <td>...</td>\n",
       "      <td>0</td>\n",
       "      <td>1</td>\n",
       "      <td>0</td>\n",
       "      <td>0</td>\n",
       "      <td>0</td>\n",
       "      <td>0</td>\n",
       "      <td>0</td>\n",
       "      <td>0</td>\n",
       "      <td>0</td>\n",
       "      <td>0</td>\n",
       "    </tr>\n",
       "  </tbody>\n",
       "</table>\n",
       "<p>5 rows × 36 columns</p>\n",
       "</div>"
      ],
      "text/plain": [
       "   ISBN                                              Title  \\\n",
       "0     0                                Classical Mythology   \n",
       "1     1                                       Clara Callan   \n",
       "2     2                               Decision in Normandy   \n",
       "3     3  Flu: The Story of the Great Influenza Pandemic...   \n",
       "4     4                             The Mummies of Urumchi   \n",
       "\n",
       "                 Author  Year                Publisher  1375  1805  1895  \\\n",
       "0    Mark P. O. Morford  2002  Oxford University Press     0     0     0   \n",
       "1  Richard Bruce Wright  2001    HarperFlamingo Canada     0     0     0   \n",
       "2          Carlo D'Este  1991          HarperPerennial     0     0     0   \n",
       "3      Gina Bari Kolata  1999     Farrar Straus Giroux     0     0     0   \n",
       "4       E. J. W. Barber  1999   W. W. Norton & Company     0     0     0   \n",
       "\n",
       "   1900  1905  ...  1990  1995  2000  2005  2010  2020  2025  2030  2035  2050  \n",
       "0     0     0  ...     0     0     1     0     0     0     0     0     0     0  \n",
       "1     0     0  ...     0     0     1     0     0     0     0     0     0     0  \n",
       "2     0     0  ...     1     0     0     0     0     0     0     0     0     0  \n",
       "3     0     0  ...     0     1     0     0     0     0     0     0     0     0  \n",
       "4     0     0  ...     0     1     0     0     0     0     0     0     0     0  \n",
       "\n",
       "[5 rows x 36 columns]"
      ]
     },
     "execution_count": 4,
     "metadata": {},
     "output_type": "execute_result"
    }
   ],
   "source": [
    "# Define the range of years\n",
    "start_year = (min_year // 5) * 5\n",
    "end_year = (books['Year'].max() // 5) * 5 + 5\n",
    "\n",
    "# Create a list of 10-year periods\n",
    "year_ranges = list(range(start_year, end_year, 5))\n",
    "\n",
    "for start in year_ranges:\n",
    "    end = start + 5\n",
    "    column_name = f'{start}'\n",
    "    books[column_name] = books['Year'].apply(lambda x: 1 if start <= x < end else 0)\n",
    "\n",
    "books = books.loc[:, (books != 0).any(axis=0)]\n",
    "\n",
    "books.head()"
   ]
  },
  {
   "cell_type": "code",
   "execution_count": 5,
   "metadata": {},
   "outputs": [],
   "source": [
    "prop_rep = {}\n",
    "for col in books.columns:\n",
    "    i = 0\n",
    "    for row in books[col]:\n",
    "        if row == 1:\n",
    "            i += 1\n",
    "    prop_rep[col] = i\n",
    "\n",
    "del prop_rep['ISBN']\n",
    "del prop_rep['Title']\n",
    "del prop_rep['Author']\n",
    "del prop_rep['Year']\n",
    "del prop_rep['Publisher']"
   ]
  },
  {
   "cell_type": "code",
   "execution_count": 6,
   "metadata": {},
   "outputs": [],
   "source": [
    "total_orig_genre = sum(prop_rep.values())"
   ]
  },
  {
   "cell_type": "code",
   "execution_count": 7,
   "metadata": {},
   "outputs": [],
   "source": [
    "for key in prop_rep.keys():\n",
    "    prop_rep[key] = prop_rep[key] / total_orig_genre"
   ]
  },
  {
   "cell_type": "code",
   "execution_count": 8,
   "metadata": {},
   "outputs": [
    {
     "data": {
      "text/plain": [
       "{'1375': 7.49737591842855e-06,\n",
       " '1805': 3.748687959214275e-06,\n",
       " '1895': 3.748687959214275e-06,\n",
       " '1900': 4.8732943469785574e-05,\n",
       " '1905': 1.49947518368571e-05,\n",
       " '1910': 7.872244714349978e-05,\n",
       " '1915': 7.49737591842855e-06,\n",
       " '1920': 0.00018743439796071375,\n",
       " '1925': 5.623031938821413e-05,\n",
       " '1930': 9.746588693957115e-05,\n",
       " '1935': 0.00011620932673564253,\n",
       " '1940': 0.0002699055330634278,\n",
       " '1945': 0.00020617783775678513,\n",
       " '1950': 0.0008359574149047833,\n",
       " '1955': 0.00149947518368571,\n",
       " '1960': 0.00250787224471435,\n",
       " '1965': 0.004138551506972559,\n",
       " '1970': 0.013945119208277103,\n",
       " '1975': 0.03394062078272605,\n",
       " '1980': 0.07361298545509072,\n",
       " '1985': 0.12424276503223872,\n",
       " '1990': 0.1887614334982756,\n",
       " '1995': 0.2836632178737442,\n",
       " '2000': 0.271483730694257,\n",
       " '2005': 0.00018743439796071375,\n",
       " '2010': 1.8743439796071373e-05,\n",
       " '2020': 1.8743439796071373e-05,\n",
       " '2025': 3.748687959214275e-06,\n",
       " '2030': 2.6240815714499924e-05,\n",
       " '2035': 7.49737591842855e-06,\n",
       " '2050': 7.49737591842855e-06}"
      ]
     },
     "execution_count": 8,
     "metadata": {},
     "output_type": "execute_result"
    }
   ],
   "source": [
    "prop_rep"
   ]
  },
  {
   "cell_type": "code",
   "execution_count": 9,
   "metadata": {},
   "outputs": [
    {
     "data": {
      "image/png": "[encoded data removed]",
      "text/plain": [
       "<Figure size 2000x1000 with 1 Axes>"
      ]
     },
     "metadata": {},
     "output_type": "display_data"
    }
   ],
   "source": [
    "sorted_prop_rep = dict(sorted(prop_rep.items(), key=lambda item: item[1], reverse=True))\n",
    "\n",
    "plt.figure(figsize=(20, 10))\n",
    "plt.bar(sorted_prop_rep.keys(), sorted_prop_rep.values(), color='seagreen')\n",
    "plt.xlabel('Year Range')\n",
    "plt.ylabel('Proportional Representation')\n",
    "plt.title('Distribution of Year Ranges Proportional Representation (Sorted)')\n",
    "plt.xticks(rotation=90)\n",
    "\n",
    "plt.show()"
   ]
  },
  {
   "cell_type": "code",
   "execution_count": 10,
   "metadata": {},
   "outputs": [],
   "source": [
    "# manually switch between to generate plots\n",
    "predictions10 = np.load(\"models/predictions/gauss_predictions_bc_10.npy\")\n",
    "predictions20 = np.load(\"models/predictions/gauss_predictions_bc_20.npy\")\n",
    "predictions50 = np.load(\"models/predictions/gauss_predictions_bc_50.npy\")"
   ]
  },
  {
   "cell_type": "code",
   "execution_count": 11,
   "metadata": {},
   "outputs": [],
   "source": [
    "top_50_book_features = []\n",
    "\n",
    "for user_predictions in predictions10:\n",
    "    top_50_indices = np.argsort(user_predictions)[-50:][::-1]\n",
    "    top_50_book_ids = books[books['ISBN'].isin(top_50_indices)]\n",
    "    top_50_features = []\n",
    "    for col in top_50_book_ids.columns:\n",
    "        for row in top_50_book_ids[col]:\n",
    "            if row == 1:\n",
    "                top_50_features.append(col)\n",
    "    \n",
    "    top_50_book_features.append(top_50_features)"
   ]
  },
  {
   "cell_type": "code",
   "execution_count": 12,
   "metadata": {},
   "outputs": [
    {
     "data": {
      "image/png": "[encoded data removed]",
      "text/plain": [
       "<Figure size 2000x1000 with 1 Axes>"
      ]
     },
     "metadata": {},
     "output_type": "display_data"
    }
   ],
   "source": [
    "from collections import Counter\n",
    "\n",
    "flat_list = [item for sublist in top_50_book_features for item in sublist]\n",
    "\n",
    "feature_counts = Counter(flat_list)\n",
    "\n",
    "del feature_counts['ISBN']\n",
    "\n",
    "norm_total = sum(feature_counts.values())\n",
    "for key in feature_counts.keys():\n",
    "    feature_counts[key] = feature_counts[key] / norm_total\n",
    "\n",
    "for key in feature_counts.keys():\n",
    "    feature_counts[key] = feature_counts[key] / prop_rep[key]\n",
    "\n",
    "\n",
    "# Convert the feature counts to a dataframe\n",
    "feature_counts_df = pd.DataFrame.from_dict(feature_counts, orient='index').reset_index()\n",
    "feature_counts_df.columns = ['Feature', 'Count']\n",
    "\n",
    "# Sort the dataframe by the count\n",
    "feature_counts_df = feature_counts_df.sort_values(by='Count', ascending=False)\n",
    "feature_counts_df = feature_counts_df[feature_counts_df['Feature'] != '1805']\n",
    "\n",
    "# Plot the histogram\n",
    "plt.figure(figsize=(20, 10))\n",
    "plt.bar(feature_counts_df['Feature'], feature_counts_df['Count'], color='seagreen')\n",
    "plt.xticks(rotation=90)\n",
    "plt.xlabel('Year Range')\n",
    "plt.ylabel('Proportion')\n",
    "plt.title('Proportional Frequency of Features in the Top 50 Books Recommended to Users')\n",
    "plt.show()"
   ]
  },
  {
   "cell_type": "code",
   "execution_count": 34,
   "metadata": {},
   "outputs": [
    {
     "data": {
      "text/html": [
       "<div>\n",
       "<style scoped>\n",
       "    .dataframe tbody tr th:only-of-type {\n",
       "        vertical-align: middle;\n",
       "    }\n",
       "\n",
       "    .dataframe tbody tr th {\n",
       "        vertical-align: top;\n",
       "    }\n",
       "\n",
       "    .dataframe thead th {\n",
       "        text-align: right;\n",
       "    }\n",
       "</style>\n",
       "<table border=\"1\" class=\"dataframe\">\n",
       "  <thead>\n",
       "    <tr style=\"text-align: right;\">\n",
       "      <th></th>\n",
       "      <th>Feature</th>\n",
       "      <th>Count</th>\n",
       "    </tr>\n",
       "  </thead>\n",
       "  <tbody>\n",
       "    <tr>\n",
       "      <th>12</th>\n",
       "      <td>1930</td>\n",
       "      <td>4.330283</td>\n",
       "    </tr>\n",
       "    <tr>\n",
       "      <th>8</th>\n",
       "      <td>1950</td>\n",
       "      <td>3.029256</td>\n",
       "    </tr>\n",
       "    <tr>\n",
       "      <th>4</th>\n",
       "      <td>2000</td>\n",
       "      <td>1.505870</td>\n",
       "    </tr>\n",
       "    <tr>\n",
       "      <th>9</th>\n",
       "      <td>1955</td>\n",
       "      <td>1.238461</td>\n",
       "    </tr>\n",
       "    <tr>\n",
       "      <th>3</th>\n",
       "      <td>1995</td>\n",
       "      <td>1.042523</td>\n",
       "    </tr>\n",
       "    <tr>\n",
       "      <th>11</th>\n",
       "      <td>2005</td>\n",
       "      <td>0.990769</td>\n",
       "    </tr>\n",
       "    <tr>\n",
       "      <th>10</th>\n",
       "      <td>1960</td>\n",
       "      <td>0.989557</td>\n",
       "    </tr>\n",
       "    <tr>\n",
       "      <th>2</th>\n",
       "      <td>1990</td>\n",
       "      <td>0.845445</td>\n",
       "    </tr>\n",
       "    <tr>\n",
       "      <th>14</th>\n",
       "      <td>1925</td>\n",
       "      <td>0.600466</td>\n",
       "    </tr>\n",
       "    <tr>\n",
       "      <th>1</th>\n",
       "      <td>1985</td>\n",
       "      <td>0.569884</td>\n",
       "    </tr>\n",
       "    <tr>\n",
       "      <th>6</th>\n",
       "      <td>1970</td>\n",
       "      <td>0.512091</td>\n",
       "    </tr>\n",
       "    <tr>\n",
       "      <th>0</th>\n",
       "      <td>1980</td>\n",
       "      <td>0.491699</td>\n",
       "    </tr>\n",
       "    <tr>\n",
       "      <th>7</th>\n",
       "      <td>1965</td>\n",
       "      <td>0.469114</td>\n",
       "    </tr>\n",
       "    <tr>\n",
       "      <th>5</th>\n",
       "      <td>1975</td>\n",
       "      <td>0.360120</td>\n",
       "    </tr>\n",
       "    <tr>\n",
       "      <th>16</th>\n",
       "      <td>1920</td>\n",
       "      <td>0.090070</td>\n",
       "    </tr>\n",
       "    <tr>\n",
       "      <th>15</th>\n",
       "      <td>1945</td>\n",
       "      <td>0.081882</td>\n",
       "    </tr>\n",
       "    <tr>\n",
       "      <th>13</th>\n",
       "      <td>1940</td>\n",
       "      <td>0.062549</td>\n",
       "    </tr>\n",
       "  </tbody>\n",
       "</table>\n",
       "</div>"
      ],
      "text/plain": [
       "   Feature     Count\n",
       "12    1930  4.330283\n",
       "8     1950  3.029256\n",
       "4     2000  1.505870\n",
       "9     1955  1.238461\n",
       "3     1995  1.042523\n",
       "11    2005  0.990769\n",
       "10    1960  0.989557\n",
       "2     1990  0.845445\n",
       "14    1925  0.600466\n",
       "1     1985  0.569884\n",
       "6     1970  0.512091\n",
       "0     1980  0.491699\n",
       "7     1965  0.469114\n",
       "5     1975  0.360120\n",
       "16    1920  0.090070\n",
       "15    1945  0.081882\n",
       "13    1940  0.062549"
      ]
     },
     "execution_count": 34,
     "metadata": {},
     "output_type": "execute_result"
    }
   ],
   "source": [
    "feature_counts_df"
   ]
  },
  {
   "cell_type": "code",
   "execution_count": 13,
   "metadata": {},
   "outputs": [],
   "source": [
    "tested_users10 = np.load(\"models/predictions/gauss_test_users_bc_10.npy\")\n",
    "tested_users20 = np.load(\"models/predictions/gauss_test_users_bc_20.npy\")\n",
    "tested_users50 = np.load(\"models/predictions/gauss_test_users_bc_50.npy\")"
   ]
  },
  {
   "cell_type": "code",
   "execution_count": 14,
   "metadata": {},
   "outputs": [],
   "source": [
    "# filter user_data by users in tested_users\n",
    "filtered_user_data = ratings[ratings['User-ID'].isin(tested_users10)]"
   ]
  },
  {
   "cell_type": "code",
   "execution_count": 15,
   "metadata": {},
   "outputs": [],
   "source": [
    "filtered_user_data = filtered_user_data[filtered_user_data['Rating'] != 0]"
   ]
  },
  {
   "cell_type": "code",
   "execution_count": 16,
   "metadata": {},
   "outputs": [],
   "source": [
    "# make dictionary with movie IDs and counts\n",
    "book_counts = filtered_user_data['ISBN'].value_counts().to_dict()"
   ]
  },
  {
   "cell_type": "code",
   "execution_count": 17,
   "metadata": {},
   "outputs": [
    {
     "data": {
      "text/plain": [
       "7385"
      ]
     },
     "execution_count": 17,
     "metadata": {},
     "output_type": "execute_result"
    }
   ],
   "source": [
    "len(book_counts)"
   ]
  },
  {
   "cell_type": "code",
   "execution_count": 18,
   "metadata": {},
   "outputs": [],
   "source": [
    "# re-run and explicity calculate the difference between medians\n",
    "# top 20%\n",
    "#\n",
    "# drop 0 ratings"
   ]
  },
  {
   "cell_type": "code",
   "execution_count": 19,
   "metadata": {},
   "outputs": [],
   "source": [
    "from operator import itemgetter\n",
    "res = dict(sorted(book_counts.items(), key=itemgetter(1), reverse=True)[:54276])"
   ]
  },
  {
   "cell_type": "code",
   "execution_count": 20,
   "metadata": {},
   "outputs": [],
   "source": [
    "popular_items = res.keys()"
   ]
  },
  {
   "cell_type": "code",
   "execution_count": 21,
   "metadata": {},
   "outputs": [],
   "source": [
    "# for each user, count the number of popular books they have rated\n",
    "popular_book_counts = {}\n",
    "for user in tested_users10:\n",
    "    user_data = filtered_user_data[filtered_user_data['User-ID'] == user]\n",
    "    popular_book_count = user_data[user_data['ISBN'].isin(popular_items)].shape[0]\n",
    "    popular_book_counts[user] = popular_book_count"
   ]
  },
  {
   "cell_type": "code",
   "execution_count": 22,
   "metadata": {},
   "outputs": [],
   "source": [
    "#for each user, count the total number of books they have rated\n",
    "total_book_counts = {}\n",
    "for user in tested_users10:\n",
    "    user_data = filtered_user_data[filtered_user_data['User-ID'] == user]\n",
    "    total_book_count = user_data.shape[0]\n",
    "    total_book_counts[user] = total_book_count"
   ]
  },
  {
   "cell_type": "code",
   "execution_count": 23,
   "metadata": {},
   "outputs": [],
   "source": [
    "# remove 0 counts from totla_book_counts\n",
    "total_book_counts = {k: v for k, v in total_book_counts.items() if v != 0}"
   ]
  },
  {
   "cell_type": "code",
   "execution_count": 24,
   "metadata": {},
   "outputs": [],
   "source": [
    "#make a dictionary with the proportion of popular/total for each user\n",
    "prop_popular = {}\n",
    "for user in tested_users10:\n",
    "    try:\n",
    "        prop_popular[user] = popular_book_counts[user] / total_book_counts[user]\n",
    "    except KeyError:\n",
    "        pass"
   ]
  },
  {
   "cell_type": "code",
   "execution_count": 25,
   "metadata": {},
   "outputs": [],
   "source": [
    "prop_popular = {key: value for key, value in prop_popular.items() if value != 0}"
   ]
  },
  {
   "cell_type": "code",
   "execution_count": 26,
   "metadata": {},
   "outputs": [
    {
     "data": {
      "text/plain": [
       "1.0"
      ]
     },
     "execution_count": 26,
     "metadata": {},
     "output_type": "execute_result"
    }
   ],
   "source": [
    "max(prop_popular.values())"
   ]
  },
  {
   "cell_type": "code",
   "execution_count": 27,
   "metadata": {},
   "outputs": [],
   "source": [
    "top_50_book_pop = []\n",
    "\n",
    "for user_predictions in predictions10:\n",
    "    # Get the indices of the top 50 highest rated predictions\n",
    "    top_50_indices = np.argsort(user_predictions)[-50:][::-1]\n",
    "    \n",
    "    # Get the movie IDs for these indices\n",
    "    top_50_movie_ids = books[books['ISBN'].isin(top_50_indices)]\n",
    "    count_pop = 0\n",
    "    for row in top_50_movie_ids[\"ISBN\"]:\n",
    "        if row in popular_items:\n",
    "            count_pop += 1\n",
    "    \n",
    "    top_50_pop = count_pop / 50\n",
    "    top_50_book_pop.append(top_50_pop)"
   ]
  },
  {
   "cell_type": "code",
   "execution_count": 28,
   "metadata": {},
   "outputs": [
    {
     "data": {
      "text/plain": [
       "0.9"
      ]
     },
     "execution_count": 28,
     "metadata": {},
     "output_type": "execute_result"
    }
   ],
   "source": [
    "max(top_50_book_pop)"
   ]
  },
  {
   "cell_type": "code",
   "execution_count": 29,
   "metadata": {},
   "outputs": [],
   "source": [
    "# what was this for?\n",
    "#i = 0\n",
    "#for user in prop_popular:\n",
    "#    prop_popular[user] = top_50_movie_pop[i] / prop_popular[user]\n",
    "#    i += 1"
   ]
  },
  {
   "cell_type": "code",
   "execution_count": 30,
   "metadata": {},
   "outputs": [],
   "source": [
    "so = prop_popular.values()\n",
    "soso = list(so)"
   ]
  },
  {
   "cell_type": "code",
   "execution_count": 31,
   "metadata": {},
   "outputs": [
    {
     "data": {
      "image/png": "[encoded data removed]",
      "text/plain": [
       "<Figure size 640x480 with 1 Axes>"
      ]
     },
     "metadata": {},
     "output_type": "display_data"
    }
   ],
   "source": [
    "# scatterplot prop_popular\n",
    "import matplotlib.pyplot as plt\n",
    "\n",
    "fig, ax = plt.subplots()\n",
    "ax.boxplot([soso, top_50_book_pop], labels=[\"Profile\", \"Recommended\"], vert=False)\n",
    "plt.xlabel('Ratio of Popular Movies')\n",
    "plt.title('Proportion of Popular Movies Recommended vs. Rated by Users')\n",
    "plt.show()"
   ]
  },
  {
   "cell_type": "code",
   "execution_count": 32,
   "metadata": {},
   "outputs": [
    {
     "data": {
      "text/plain": [
       "-0.43999999999999995"
      ]
     },
     "execution_count": 32,
     "metadata": {},
     "output_type": "execute_result"
    }
   ],
   "source": [
    "np.median(top_50_book_pop) - np.median(soso)"
   ]
  },
  {
   "cell_type": "code",
   "execution_count": 33,
   "metadata": {},
   "outputs": [],
   "source": [
    "# -0.98 and -0.98"
   ]
  },
  {
   "cell_type": "code",
   "execution_count": null,
   "metadata": {},
   "outputs": [],
   "source": []
  }
 ],
 "metadata": {
  "kernelspec": {
   "display_name": "workshop",
   "language": "python",
   "name": "python3"
  },
  "language_info": {
   "codemirror_mode": {
    "name": "ipython",
    "version": 3
   },
   "file_extension": ".py",
   "mimetype": "text/x-python",
   "name": "python",
   "nbconvert_exporter": "python",
   "pygments_lexer": "ipython3",
   "version": "3.11.5"
  }
 },
 "nbformat": 4,
 "nbformat_minor": 2
}
