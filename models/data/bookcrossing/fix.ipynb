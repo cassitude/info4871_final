{
 "cells": [
  {
   "cell_type": "code",
   "execution_count": 7,
   "metadata": {},
   "outputs": [],
   "source": [
    "import pandas as pd"
   ]
  },
  {
   "cell_type": "code",
   "execution_count": null,
   "metadata": {},
   "outputs": [],
   "source": [
    "# Load the datasets\n",
    "books = pd.read_csv('books.csv', sep=\";\")\n",
    "ratings = pd.read_csv('ratings.csv', sep=\";\")\n",
    "\n",
    "# Create a mapping from ISBN to unique integer\n",
    "isbn_mapping = {isbn: idx for idx, isbn in enumerate(books['ISBN'].unique())}\n",
    "\n",
    "# Replace ISBN with unique integer in both datasets\n",
    "books['ISBN'] = books['ISBN'].map(isbn_mapping)\n",
    "ratings['ISBN'] = ratings['ISBN'].map(isbn_mapping)\n",
    "ratings = ratings.dropna(subset=['ISBN'])\n",
    "ratings['ISBN'] = ratings['ISBN'].astype(int)\n",
    "\n",
    "# Save the modified datasets\n",
    "books.to_csv('books.csv', index=False)\n",
    "ratings.to_csv('ratings.csv', index=False)"
   ]
  }
 ],
 "metadata": {
  "kernelspec": {
   "display_name": "workshop",
   "language": "python",
   "name": "python3"
  },
  "language_info": {
   "codemirror_mode": {
    "name": "ipython",
    "version": 3
   },
   "file_extension": ".py",
   "mimetype": "text/x-python",
   "name": "python",
   "nbconvert_exporter": "python",
   "pygments_lexer": "ipython3",
   "version": "3.11.5"
  }
 },
 "nbformat": 4,
 "nbformat_minor": 2
}
